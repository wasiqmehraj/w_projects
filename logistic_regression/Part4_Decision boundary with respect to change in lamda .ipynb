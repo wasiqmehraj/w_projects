{
 "cells": [
  {
   "cell_type": "code",
   "execution_count": 42,
   "id": "1f1734ad",
   "metadata": {},
   "outputs": [],
   "source": [
    "import matplotlib.pyplot as plt\n",
    "import numpy as np\n",
    "import pandas as pd\n",
    "from sklearn.linear_model import LogisticRegression\n",
    "from sklearn.metrics import classification_report, confusion_matrix, plot_confusion_matrix\n",
    "from sklearn.model_selection import train_test_split\n",
    "from sklearn import datasets\n",
    "import scipy.optimize as op \n",
    "import seaborn as sns\n",
    "from __future__ import division"
   ]
  },
  {
   "cell_type": "code",
   "execution_count": 43,
   "id": "5670432a",
   "metadata": {},
   "outputs": [
    {
     "data": {
      "text/html": [
       "<div>\n",
       "<style scoped>\n",
       "    .dataframe tbody tr th:only-of-type {\n",
       "        vertical-align: middle;\n",
       "    }\n",
       "\n",
       "    .dataframe tbody tr th {\n",
       "        vertical-align: top;\n",
       "    }\n",
       "\n",
       "    .dataframe thead th {\n",
       "        text-align: right;\n",
       "    }\n",
       "</style>\n",
       "<table border=\"1\" class=\"dataframe\">\n",
       "  <thead>\n",
       "    <tr style=\"text-align: right;\">\n",
       "      <th></th>\n",
       "      <th>age</th>\n",
       "      <th>sex</th>\n",
       "      <th>cp</th>\n",
       "      <th>trestbps</th>\n",
       "      <th>chol</th>\n",
       "      <th>fbs</th>\n",
       "      <th>restecg</th>\n",
       "      <th>thalach</th>\n",
       "      <th>exang</th>\n",
       "      <th>oldpeak</th>\n",
       "      <th>slope</th>\n",
       "      <th>ca</th>\n",
       "      <th>thal</th>\n",
       "      <th>target</th>\n",
       "    </tr>\n",
       "  </thead>\n",
       "  <tbody>\n",
       "    <tr>\n",
       "      <th>0</th>\n",
       "      <td>63</td>\n",
       "      <td>1</td>\n",
       "      <td>3</td>\n",
       "      <td>145</td>\n",
       "      <td>233</td>\n",
       "      <td>1</td>\n",
       "      <td>0</td>\n",
       "      <td>150</td>\n",
       "      <td>0</td>\n",
       "      <td>2.3</td>\n",
       "      <td>0</td>\n",
       "      <td>0</td>\n",
       "      <td>1</td>\n",
       "      <td>1</td>\n",
       "    </tr>\n",
       "    <tr>\n",
       "      <th>1</th>\n",
       "      <td>37</td>\n",
       "      <td>1</td>\n",
       "      <td>2</td>\n",
       "      <td>130</td>\n",
       "      <td>250</td>\n",
       "      <td>0</td>\n",
       "      <td>1</td>\n",
       "      <td>187</td>\n",
       "      <td>0</td>\n",
       "      <td>3.5</td>\n",
       "      <td>0</td>\n",
       "      <td>0</td>\n",
       "      <td>2</td>\n",
       "      <td>1</td>\n",
       "    </tr>\n",
       "    <tr>\n",
       "      <th>2</th>\n",
       "      <td>41</td>\n",
       "      <td>0</td>\n",
       "      <td>1</td>\n",
       "      <td>130</td>\n",
       "      <td>204</td>\n",
       "      <td>0</td>\n",
       "      <td>0</td>\n",
       "      <td>172</td>\n",
       "      <td>0</td>\n",
       "      <td>1.4</td>\n",
       "      <td>2</td>\n",
       "      <td>0</td>\n",
       "      <td>2</td>\n",
       "      <td>1</td>\n",
       "    </tr>\n",
       "    <tr>\n",
       "      <th>3</th>\n",
       "      <td>56</td>\n",
       "      <td>1</td>\n",
       "      <td>1</td>\n",
       "      <td>120</td>\n",
       "      <td>236</td>\n",
       "      <td>0</td>\n",
       "      <td>1</td>\n",
       "      <td>178</td>\n",
       "      <td>0</td>\n",
       "      <td>0.8</td>\n",
       "      <td>2</td>\n",
       "      <td>0</td>\n",
       "      <td>2</td>\n",
       "      <td>1</td>\n",
       "    </tr>\n",
       "    <tr>\n",
       "      <th>4</th>\n",
       "      <td>57</td>\n",
       "      <td>0</td>\n",
       "      <td>0</td>\n",
       "      <td>120</td>\n",
       "      <td>354</td>\n",
       "      <td>0</td>\n",
       "      <td>1</td>\n",
       "      <td>163</td>\n",
       "      <td>1</td>\n",
       "      <td>0.6</td>\n",
       "      <td>2</td>\n",
       "      <td>0</td>\n",
       "      <td>2</td>\n",
       "      <td>1</td>\n",
       "    </tr>\n",
       "    <tr>\n",
       "      <th>...</th>\n",
       "      <td>...</td>\n",
       "      <td>...</td>\n",
       "      <td>...</td>\n",
       "      <td>...</td>\n",
       "      <td>...</td>\n",
       "      <td>...</td>\n",
       "      <td>...</td>\n",
       "      <td>...</td>\n",
       "      <td>...</td>\n",
       "      <td>...</td>\n",
       "      <td>...</td>\n",
       "      <td>...</td>\n",
       "      <td>...</td>\n",
       "      <td>...</td>\n",
       "    </tr>\n",
       "    <tr>\n",
       "      <th>298</th>\n",
       "      <td>57</td>\n",
       "      <td>0</td>\n",
       "      <td>0</td>\n",
       "      <td>140</td>\n",
       "      <td>241</td>\n",
       "      <td>0</td>\n",
       "      <td>1</td>\n",
       "      <td>123</td>\n",
       "      <td>1</td>\n",
       "      <td>0.2</td>\n",
       "      <td>1</td>\n",
       "      <td>0</td>\n",
       "      <td>3</td>\n",
       "      <td>0</td>\n",
       "    </tr>\n",
       "    <tr>\n",
       "      <th>299</th>\n",
       "      <td>45</td>\n",
       "      <td>1</td>\n",
       "      <td>3</td>\n",
       "      <td>110</td>\n",
       "      <td>264</td>\n",
       "      <td>0</td>\n",
       "      <td>1</td>\n",
       "      <td>132</td>\n",
       "      <td>0</td>\n",
       "      <td>1.2</td>\n",
       "      <td>1</td>\n",
       "      <td>0</td>\n",
       "      <td>3</td>\n",
       "      <td>0</td>\n",
       "    </tr>\n",
       "    <tr>\n",
       "      <th>300</th>\n",
       "      <td>68</td>\n",
       "      <td>1</td>\n",
       "      <td>0</td>\n",
       "      <td>144</td>\n",
       "      <td>193</td>\n",
       "      <td>1</td>\n",
       "      <td>1</td>\n",
       "      <td>141</td>\n",
       "      <td>0</td>\n",
       "      <td>3.4</td>\n",
       "      <td>1</td>\n",
       "      <td>2</td>\n",
       "      <td>3</td>\n",
       "      <td>0</td>\n",
       "    </tr>\n",
       "    <tr>\n",
       "      <th>301</th>\n",
       "      <td>57</td>\n",
       "      <td>1</td>\n",
       "      <td>0</td>\n",
       "      <td>130</td>\n",
       "      <td>131</td>\n",
       "      <td>0</td>\n",
       "      <td>1</td>\n",
       "      <td>115</td>\n",
       "      <td>1</td>\n",
       "      <td>1.2</td>\n",
       "      <td>1</td>\n",
       "      <td>1</td>\n",
       "      <td>3</td>\n",
       "      <td>0</td>\n",
       "    </tr>\n",
       "    <tr>\n",
       "      <th>302</th>\n",
       "      <td>57</td>\n",
       "      <td>0</td>\n",
       "      <td>1</td>\n",
       "      <td>130</td>\n",
       "      <td>236</td>\n",
       "      <td>0</td>\n",
       "      <td>0</td>\n",
       "      <td>174</td>\n",
       "      <td>0</td>\n",
       "      <td>0.0</td>\n",
       "      <td>1</td>\n",
       "      <td>1</td>\n",
       "      <td>2</td>\n",
       "      <td>0</td>\n",
       "    </tr>\n",
       "  </tbody>\n",
       "</table>\n",
       "<p>303 rows × 14 columns</p>\n",
       "</div>"
      ],
      "text/plain": [
       "     age  sex  cp  trestbps  chol  fbs  restecg  thalach  exang  oldpeak  \\\n",
       "0     63    1   3       145   233    1        0      150      0      2.3   \n",
       "1     37    1   2       130   250    0        1      187      0      3.5   \n",
       "2     41    0   1       130   204    0        0      172      0      1.4   \n",
       "3     56    1   1       120   236    0        1      178      0      0.8   \n",
       "4     57    0   0       120   354    0        1      163      1      0.6   \n",
       "..   ...  ...  ..       ...   ...  ...      ...      ...    ...      ...   \n",
       "298   57    0   0       140   241    0        1      123      1      0.2   \n",
       "299   45    1   3       110   264    0        1      132      0      1.2   \n",
       "300   68    1   0       144   193    1        1      141      0      3.4   \n",
       "301   57    1   0       130   131    0        1      115      1      1.2   \n",
       "302   57    0   1       130   236    0        0      174      0      0.0   \n",
       "\n",
       "     slope  ca  thal  target  \n",
       "0        0   0     1       1  \n",
       "1        0   0     2       1  \n",
       "2        2   0     2       1  \n",
       "3        2   0     2       1  \n",
       "4        2   0     2       1  \n",
       "..     ...  ..   ...     ...  \n",
       "298      1   0     3       0  \n",
       "299      1   0     3       0  \n",
       "300      1   2     3       0  \n",
       "301      1   1     3       0  \n",
       "302      1   1     2       0  \n",
       "\n",
       "[303 rows x 14 columns]"
      ]
     },
     "execution_count": 43,
     "metadata": {},
     "output_type": "execute_result"
    }
   ],
   "source": [
    "#Import the data in csv file\n",
    "#1---Heart condition\n",
    "#0---healthy\n",
    "\n",
    "df = pd.read_csv(\"heart.csv\")\n",
    "df"
   ]
  },
  {
   "cell_type": "code",
   "execution_count": 44,
   "id": "5e10f207",
   "metadata": {},
   "outputs": [],
   "source": [
    "# The Logistic Function\n",
    "def sigmoid(z): \n",
    "    return 1 / (1 + np.exp(-z))"
   ]
  },
  {
   "cell_type": "code",
   "execution_count": 45,
   "id": "a334a3f2",
   "metadata": {},
   "outputs": [],
   "source": [
    "# Logistic Regression Cost Function\n",
    "def calcCostFunction(theta, X, y):\n",
    "    \n",
    "    # number of training examples\n",
    "    m,n = X.shape  \n",
    "    \n",
    "    # Calculate h = X * theta (we are using vectorized version)\n",
    "    h = X.dot(theta) \n",
    "    \n",
    "    # Calculate the Cost J\n",
    "    J = -(np.sum(y * np.log(sigmoid(h)) + (1 - y) * np.log(1 - sigmoid(h)))/m)\n",
    "    \n",
    "    return J"
   ]
  },
  {
   "cell_type": "code",
   "execution_count": 46,
   "id": "577e2dd3",
   "metadata": {},
   "outputs": [],
   "source": [
    "# The Gradient Function\n",
    "def calcGradient(theta, X, y):\n",
    "    \n",
    "    # number of training examples\n",
    "    m,n = X.shape    \n",
    "    \n",
    "    # Calculate h = X * theta\n",
    "    h = X.dot(theta)\n",
    "    \n",
    "    # Calculate the error = (h - y)\n",
    "    error = sigmoid(h) - y\n",
    "    \n",
    "    # Calculate the new theta\n",
    "    gradient = 1/m * (X.T).dot(error)\n",
    "    \n",
    "    return gradient"
   ]
  },
  {
   "cell_type": "code",
   "execution_count": 47,
   "id": "45a9aba8",
   "metadata": {},
   "outputs": [],
   "source": [
    "# The Feature Scaling and Normalization\n",
    "# for two variables\n",
    "\n",
    "def FeatureScalingNormalization(X):\n",
    "    # Initialize the following variables:\n",
    "    # Make a copy of the X vector and call it X_norm\n",
    "    X_norm = X \n",
    "\n",
    "    # Initialize mu: It will contain the average \n",
    "    # value of X in training set.\n",
    "    mu = np.zeros(X.shape[1]) \n",
    "    \n",
    "    # Initialize sigma: It will contain the Range(max-min)\n",
    "    # of X or Standard Deviation\n",
    "    sigma = np.zeros(X.shape[1]) \n",
    "\n",
    "    # mu (mean)\n",
    "    mu = np.vstack((X[0].mean(), \\\n",
    "                    X[1].mean()))\n",
    "\n",
    "    # The Standard Deviation calculation with NumPy,\n",
    "    # requires the argument \"degrees of freedom\" = 1\n",
    "    sigma = np.vstack((X[0].std(ddof=1),\\\n",
    "                       X[1].std(ddof=1)))     \n",
    "\n",
    "    # Number of training examples\n",
    "    m = X.shape[1] \n",
    "    \n",
    "    # Make a vector of size m with the mu values\n",
    "    mu_matrix = np.multiply(np.ones(m), mu).T \n",
    "    \n",
    "    # Make a vector of size m with the sigma values    \n",
    "    sigma_matrix = np.multiply(np.ones(m), sigma).T\n",
    "    \n",
    "    # Apply the Feature Scaling Normalization formula\n",
    "    X_norm = np.subtract(X, mu).T\n",
    "    X_norm = X_norm /sigma.T\n",
    "    \n",
    "    return [X_norm, mu, sigma]"
   ]
  },
  {
   "cell_type": "code",
   "execution_count": 48,
   "id": "154d1958",
   "metadata": {},
   "outputs": [],
   "source": [
    "# Calculate the accuracy\n",
    "def CalcAccuracy(theta, X):\n",
    "    p = sigmoid(X.dot(theta)) >= 0.5\n",
    "    return p"
   ]
  },
  {
   "cell_type": "code",
   "execution_count": 49,
   "id": "96a3ab0a",
   "metadata": {},
   "outputs": [],
   "source": [
    "# Make the X and y numpy arrays,\n",
    "# containing the values of\n",
    "# Radius and Texture\n",
    "X = np.vstack((np.asarray(df.age.values), \\\n",
    "               np.asarray(df.thalach.values)))\n",
    "y = np.asarray(df.target.values)"
   ]
  },
  {
   "cell_type": "code",
   "execution_count": 50,
   "id": "737feb34",
   "metadata": {},
   "outputs": [
    {
     "data": {
      "text/plain": [
       "Text(0, 0.5, 'thalach')"
      ]
     },
     "execution_count": 50,
     "metadata": {},
     "output_type": "execute_result"
    },
    {
     "data": {
      "image/png": "[encoded data removed]",
      "text/plain": [
       "<Figure size 432x288 with 1 Axes>"
      ]
     },
     "metadata": {},
     "output_type": "display_data"
    }
   ],
   "source": [
    "# Plot the data\n",
    "for i in range(len(y)): #Run loop m times\n",
    "    if y[i]==0.0:       #If the value of y is 0 then color it yellow and mark with shape'o'\n",
    "        c = 'b'\n",
    "        m = u'o'\n",
    "    if y[i]==1.0:      #If the value of y is 1 then color it black and mark with shape '+'\n",
    "        c = 'r'\n",
    "        m = u'+'\n",
    "    plt.scatter(X[0][i], X[1][i], color=c, marker=m) #whatever the case plot the value with respect to x0 and x1 parameters\n",
    "    \n",
    "# Put labels\n",
    "plt.xlabel(df.columns[df.columns.get_loc(\"age\")])\n",
    "plt.ylabel(df.columns[df.columns.get_loc(\"thalach\")])\n"
   ]
  },
  {
   "cell_type": "code",
   "execution_count": 51,
   "id": "7e902b63",
   "metadata": {},
   "outputs": [],
   "source": [
    "# Normalize X using the FeatureScalingNormalization function, and \n",
    "# copy the results in the \"featuresNormalizeresults\" list\n",
    "featuresNormalizeresults = FeatureScalingNormalization(X)\n",
    "\n",
    "# get the normalized X matrix\n",
    "X = np.asarray(featuresNormalizeresults[0]).T\n",
    "\n",
    "# get the mean\n",
    "mu = featuresNormalizeresults[1]\n",
    "\n",
    "# get the sigma\n",
    "sigma = featuresNormalizeresults[2]\n"
   ]
  },
  {
   "cell_type": "code",
   "execution_count": 52,
   "id": "be792912",
   "metadata": {},
   "outputs": [],
   "source": [
    "# Add a column of 'ones' to X\n",
    "\n",
    "# number of training examples\n",
    "m = len(y) \n",
    "\n",
    "# number of features\n",
    "n = len(X)\n",
    "X_orig=X\n",
    "# Add a column of ones to the X matrix\n",
    "X = np.vstack((np.ones(m), X)).T"
   ]
  },
  {
   "cell_type": "code",
   "execution_count": 53,
   "id": "dd4ec900",
   "metadata": {
    "scrolled": false
   },
   "outputs": [
    {
     "data": {
      "text/plain": [
       "array([ 0.19444732, -0.17576669,  0.94485331])"
      ]
     },
     "execution_count": 53,
     "metadata": {},
     "output_type": "execute_result"
    }
   ],
   "source": [
    "# Gradient Descent Advanced Optimization: BFGS\n",
    "# Update and find the optimal theta\n",
    "m , n = X.shape;\n",
    "initial_theta = np.zeros(n);\n",
    "Result = op.minimize(fun = calcCostFunction, \n",
    "                                 x0 = initial_theta, \n",
    "                                 args = (X, y),\n",
    "                                 method = 'BFGS',\n",
    "                                 jac = calcGradient);\n",
    "theta = Result.x;\n",
    "theta\n"
   ]
  },
  {
   "cell_type": "code",
   "execution_count": 54,
   "id": "46828ccb",
   "metadata": {},
   "outputs": [],
   "source": [
    "x1=X_orig[0]\n",
    "x2=X_orig[1]\n",
    "dot_theta=np.dot(theta,theta)#This is the square of l2 norm"
   ]
  },
  {
   "cell_type": "markdown",
   "id": "231ec31a",
   "metadata": {},
   "source": [
    "Decision Boundary with lamda change\n"
   ]
  },
  {
   "cell_type": "code",
   "execution_count": 59,
   "id": "9d59c0ad",
   "metadata": {},
   "outputs": [
    {
     "data": {
      "text/plain": [
       "Text(0.5, 1.0, 'lamda = 0')"
      ]
     },
     "execution_count": 59,
     "metadata": {},
     "output_type": "execute_result"
    },
    {
     "data": {
      "image/png": "[encoded data removed]",
      "text/plain": [
       "<Figure size 432x288 with 1 Axes>"
      ]
     },
     "metadata": {},
     "output_type": "display_data"
    }
   ],
   "source": [
    "# Plot the data with the \n",
    "# Logistic Regression Decision Boundary\n",
    "lamda= 0\n",
    "# Create a plot set\n",
    "plot_x = x1\n",
    "#plot_x contains 2 elements one is the min of X(col1) and another is max of X(col1)\n",
    "#plot_x : [min(x1), max(x1)]\n",
    "\n",
    "# Calculate the Decision Boundary\n",
    "plot_y = -(theta[1]/theta[2])*x1 + ((theta[0]-(0.5*lamda*dot_theta))/theta[2])\n",
    "\n",
    "for i in range(len(y)):\n",
    "    if y[i]==0.0:\n",
    "        c = 'b'\n",
    "        m = u'o'\n",
    "    if y[i]==1.0:\n",
    "        c = 'r'\n",
    "        m = u'+'\n",
    "    plt.scatter(X.T[1][i], X.T[2][i], color=c, marker=m) \n",
    "    \n",
    "# Plot the Decision Boundary (red line)\n",
    "plt.plot(plot_x, plot_y, color='red')\n",
    "\n",
    "# Put labels\n",
    "plt.xlabel(df.columns[df.columns.get_loc(\"age\")])\n",
    "plt.ylabel(df.columns[df.columns.get_loc(\"thalach\")])\n",
    "plt.title('lamda = 0')"
   ]
  },
  {
   "cell_type": "code",
   "execution_count": 58,
   "id": "0c20e441",
   "metadata": {},
   "outputs": [
    {
     "data": {
      "text/plain": [
       "Text(0.5, 1.0, 'lamda = 1')"
      ]
     },
     "execution_count": 58,
     "metadata": {},
     "output_type": "execute_result"
    },
    {
     "data": {
      "image/png": "[encoded data removed]",
      "text/plain": [
       "<Figure size 432x288 with 1 Axes>"
      ]
     },
     "metadata": {},
     "output_type": "display_data"
    }
   ],
   "source": [
    "# Plot the data with the \n",
    "# Logistic Regression Decision Boundary\n",
    "lamda= 1\n",
    "# Create a plot set\n",
    "plot_x = x1\n",
    "#plot_x contains 2 elements one is the min of X(col1) and another is max of X(col1)\n",
    "#plot_x : [min(x1), max(x1)]\n",
    "\n",
    "# Calculate the Decision Boundary\n",
    "plot_y = -(theta[1]/theta[2])*x1 + ((theta[0]-(0.5*lamda*dot_theta))/theta[2])\n",
    "\n",
    "for i in range(len(y)):\n",
    "    if y[i]==0.0:\n",
    "        c = 'b'\n",
    "        m = u'o'\n",
    "    if y[i]==1.0:\n",
    "        c = 'r'\n",
    "        m = u'+'\n",
    "    plt.scatter(X.T[1][i], X.T[2][i], color=c, marker=m) \n",
    "    \n",
    "# Plot the Decision Boundary (red line)\n",
    "plt.plot(plot_x, plot_y, color='red')\n",
    "\n",
    "# Put labels\n",
    "plt.xlabel(df.columns[df.columns.get_loc(\"age\")])\n",
    "plt.ylabel(df.columns[df.columns.get_loc(\"thalach\")])\n",
    "plt.title('lamda = 1')"
   ]
  },
  {
   "cell_type": "code",
   "execution_count": 57,
   "id": "edfbbab0",
   "metadata": {},
   "outputs": [
    {
     "data": {
      "text/plain": [
       "Text(0.5, 1.0, 'lamda = 3')"
      ]
     },
     "execution_count": 57,
     "metadata": {},
     "output_type": "execute_result"
    },
    {
     "data": {
      "image/png": "[encoded data removed]",
      "text/plain": [
       "<Figure size 432x288 with 1 Axes>"
      ]
     },
     "metadata": {},
     "output_type": "display_data"
    }
   ],
   "source": [
    "# Plot the data with the \n",
    "# Logistic Regression Decision Boundary\n",
    "lamda= 3\n",
    "# Create a plot set\n",
    "plot_x = x1\n",
    "#plot_x contains 2 elements one is the min of X(col1) and another is max of X(col1)\n",
    "#plot_x : [min(x1), max(x1)]\n",
    "\n",
    "# Calculate the Decision Boundary\n",
    "plot_y = -(theta[1]/theta[2])*x1 + ((theta[0]-(0.5*lamda*dot_theta))/theta[2])\n",
    "\n",
    "for i in range(len(y)):\n",
    "    if y[i]==0.0:\n",
    "        c = 'b'\n",
    "        m = u'o'\n",
    "    if y[i]==1.0:\n",
    "        c = 'r'\n",
    "        m = u'+'\n",
    "    plt.scatter(X.T[1][i], X.T[2][i], color=c, marker=m) \n",
    "    \n",
    "# Plot the Decision Boundary (red line)\n",
    "plt.plot(plot_x, plot_y, color='red')\n",
    "\n",
    "# Put labels\n",
    "plt.xlabel(df.columns[df.columns.get_loc(\"age\")])\n",
    "plt.ylabel(df.columns[df.columns.get_loc(\"thalach\")])\n",
    "plt.title('lamda = 3')"
   ]
  },
  {
   "cell_type": "code",
   "execution_count": 56,
   "id": "070b64aa",
   "metadata": {},
   "outputs": [
    {
     "data": {
      "text/plain": [
       "Text(0.5, 1.0, 'lamda = 4')"
      ]
     },
     "execution_count": 56,
     "metadata": {},
     "output_type": "execute_result"
    },
    {
     "data": {
      "image/png": "[encoded data removed]",
      "text/plain": [
       "<Figure size 432x288 with 1 Axes>"
      ]
     },
     "metadata": {},
     "output_type": "display_data"
    }
   ],
   "source": [
    "# Plot the data with the \n",
    "# Logistic Regression Decision Boundary\n",
    "lamda= 4\n",
    "# Create a plot set\n",
    "plot_x = x1\n",
    "#plot_x contains 2 elements one is the min of X(col1) and another is max of X(col1)\n",
    "#plot_x : [min(x1), max(x1)]\n",
    "\n",
    "# Calculate the Decision Boundary\n",
    "plot_y = -(theta[1]/theta[2])*x1 + ((theta[0]-(0.5*lamda*dot_theta))/theta[2])\n",
    "\n",
    "for i in range(len(y)):\n",
    "    if y[i]==0.0:\n",
    "        c = 'b'\n",
    "        m = u'o'\n",
    "    if y[i]==1.0:\n",
    "        c = 'r'\n",
    "        m = u'+'\n",
    "    plt.scatter(X.T[1][i], X.T[2][i], color=c, marker=m) \n",
    "    \n",
    "# Plot the Decision Boundary (red line)\n",
    "plt.plot(plot_x, plot_y, color='red')\n",
    "\n",
    "# Put labels\n",
    "plt.xlabel(df.columns[df.columns.get_loc(\"age\")])\n",
    "plt.ylabel(df.columns[df.columns.get_loc(\"thalach\")])\n",
    "plt.title('lamda = 4')"
   ]
  },
  {
   "cell_type": "code",
   "execution_count": null,
   "id": "c3bce284",
   "metadata": {},
   "outputs": [],
   "source": []
  }
 ],
 "metadata": {
  "kernelspec": {
   "display_name": "Python 3 (ipykernel)",
   "language": "python",
   "name": "python3"
  },
  "language_info": {
   "codemirror_mode": {
    "name": "ipython",
    "version": 3
   },
   "file_extension": ".py",
   "mimetype": "text/x-python",
   "name": "python",
   "nbconvert_exporter": "python",
   "pygments_lexer": "ipython3",
   "version": "3.9.7"
  }
 },
 "nbformat": 4,
 "nbformat_minor": 5
}
